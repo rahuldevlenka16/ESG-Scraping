{
 "cells": [
  {
   "cell_type": "markdown",
   "metadata": {},
   "source": [
    "## Task\n",
    "    1. Turn it int script \n",
    "    2. Fix pdf download script(done)\n",
    "    3. Google blocked again\n",
    "    4. download in headless\n",
    "    5. remove the broken file entry and file, after download is complete(done)\n",
    "    6. reload after stuck(done)\n",
    "    7. Download sound alert(done)"
   ]
  },
  {
   "cell_type": "markdown",
   "metadata": {},
   "source": [
    "## importing libraries"
   ]
  },
  {
   "cell_type": "code",
   "execution_count": 1,
   "metadata": {},
   "outputs": [],
   "source": [
    "# from googlesearch import search\n",
    "import webbrowser\n",
    "import re\n",
    "import urllib.request\n",
    "import requests\n",
    "import bs4\n",
    "from fake_useragent import UserAgent"
   ]
  },
  {
   "cell_type": "code",
   "execution_count": 2,
   "metadata": {},
   "outputs": [],
   "source": [
    "import pandas as pd\n",
    "import numpy as np\n",
    "from fake_useragent import UserAgent\n",
    "from urllib.request import Request, urlopen\n",
    "from bs4 import BeautifulSoup"
   ]
  },
  {
   "cell_type": "code",
   "execution_count": 161,
   "metadata": {},
   "outputs": [],
   "source": [
    "import shutil"
   ]
  },
  {
   "cell_type": "code",
   "execution_count": 115,
   "metadata": {},
   "outputs": [],
   "source": [
    "import winsound"
   ]
  },
  {
   "cell_type": "code",
   "execution_count": 3,
   "metadata": {},
   "outputs": [],
   "source": [
    "import re\n",
    "import os"
   ]
  },
  {
   "cell_type": "code",
   "execution_count": 4,
   "metadata": {},
   "outputs": [],
   "source": [
    "# from googlesearch import search"
   ]
  },
  {
   "cell_type": "code",
   "execution_count": 5,
   "metadata": {},
   "outputs": [],
   "source": [
    "import time"
   ]
  },
  {
   "cell_type": "code",
   "execution_count": 6,
   "metadata": {},
   "outputs": [],
   "source": [
    "import seaborn as sns\n",
    "import matplotlib.pyplot as plt"
   ]
  },
  {
   "cell_type": "code",
   "execution_count": 7,
   "metadata": {},
   "outputs": [],
   "source": [
    "from selenium import webdriver\n",
    "from selenium.webdriver.common.keys import Keys#allows to use Enter, Esc keys\n",
    "from selenium.webdriver import ActionChains"
   ]
  },
  {
   "cell_type": "markdown",
   "metadata": {},
   "source": [
    "## Colors"
   ]
  },
  {
   "cell_type": "code",
   "execution_count": 8,
   "metadata": {},
   "outputs": [
    {
     "name": "stdout",
     "output_type": "stream",
     "text": [
      "\u001b[1mHello World !\u001b[0m\n"
     ]
    }
   ],
   "source": [
    "class color:\n",
    "   PURPLE = '\\033[95m'\n",
    "   CYAN = '\\033[96m'\n",
    "   DARKCYAN = '\\033[36m'\n",
    "   BLUE = '\\033[94m'\n",
    "   GREEN = '\\033[92m'\n",
    "   YELLOW = '\\033[93m'\n",
    "   RED = '\\033[91m'\n",
    "   BOLD = '\\033[1m'\n",
    "   UNDERLINE = '\\033[4m'\n",
    "   END = '\\033[0m'\n",
    "\n",
    "print(color.BOLD + 'Hello World !' + color.END)"
   ]
  },
  {
   "cell_type": "markdown",
   "metadata": {},
   "source": [
    "## Customizing graph"
   ]
  },
  {
   "cell_type": "code",
   "execution_count": 9,
   "metadata": {},
   "outputs": [],
   "source": [
    "##customizing matplotlib\n",
    "plt.rcParams['figure.figsize'] = [10,8]# for 8:5 ratio\n",
    "plt.rcParams['font.size'] = 14\n",
    "plt.style.use('seaborn-whitegrid')"
   ]
  },
  {
   "cell_type": "markdown",
   "metadata": {},
   "source": [
    "## Reading the list"
   ]
  },
  {
   "cell_type": "code",
   "execution_count": 10,
   "metadata": {
    "scrolled": true
   },
   "outputs": [],
   "source": [
    "def get_comp_list(path = \"Top 500 companies.txt\"):\n",
    "    with open(path, \"r\") as f:\n",
    "        comp_list = f.readlines()\n",
    "    return comp_list"
   ]
  },
  {
   "cell_type": "markdown",
   "metadata": {},
   "source": [
    "## Searching PDF with no block(new)"
   ]
  },
  {
   "cell_type": "code",
   "execution_count": 11,
   "metadata": {},
   "outputs": [],
   "source": [
    "def google_results(keyword, n_results=10):\n",
    "    #sleep before making requests\n",
    "    time.sleep(.600)\n",
    "    query = keyword\n",
    "    query = urllib.parse.quote_plus(query) # Format into URL encoding\n",
    "    number_result = n_results\n",
    "       \n",
    "    ua = UserAgent()\n",
    "    google_url = f\"https://www.google.com/search?q= {query} &num= + {number_result}\"\n",
    "    \n",
    "    \n",
    "    response = requests.get(google_url, {\"User-Agent\": ua.random})\n",
    "#     response = requests.get(google_url, {\"User-Agent\":'Mozilla/5.0'})\n",
    "    \n",
    "    soup = BeautifulSoup(response.content)\n",
    "    \n",
    "    links = get_links(soup)\n",
    "    titles = get_title_list(soup)\n",
    "    desc_list = get_desc(soup)\n",
    "    lst = []\n",
    "    for (l,t,d) in zip(links,titles,desc_list):\n",
    "        lst.append({\"title\" : t, \"link\" : l, \"desc\" : d})\n",
    "    return lst[:number_result]\n",
    "\n",
    "def get_links(soup):\n",
    "    result = soup.find_all('div', attrs = {'class': 'ZINbbc'})\n",
    "    pattern = '\\/url\\?q\\=(.*)\\&sa'\n",
    "    results = []\n",
    "    for i in result:\n",
    "        if \"url\" in str(i):\n",
    "            text = str(i.find('a', href = True)['href'])\n",
    "            results.append(re.search(pattern,text))\n",
    "    #group(1) returns the text of the match object\n",
    "    links=[i.group(1) for i in results if i != None]\n",
    "    return links\n",
    "\n",
    "def get_title_list(soup):\n",
    "    result = soup.find_all('h3', attrs = {'class': 'zBAuLc'})\n",
    "    titles = [i.text for i in result]\n",
    "    return titles\n",
    "\n",
    "def get_desc(soup):\n",
    "    result = soup.findAll(True, {'class':\"kCrYT\"})\n",
    "    desc_list = []\n",
    "    for i,r in enumerate(result):\n",
    "        if i % 2 != 0:\n",
    "            desc_list.append(r.text)     \n",
    "    return desc_list\n",
    "\n"
   ]
  },
  {
   "cell_type": "code",
   "execution_count": 12,
   "metadata": {},
   "outputs": [],
   "source": [
    "def search_and_get_pdf(n = None,year = None, c=None):\n",
    "    if c == None:\n",
    "        c = int(input(\"Enter\\n1. Normal Downlaod\\n2. Redownload \\n\"))\n",
    "    if c == 1:\n",
    "        comp_list = get_comp_list()\n",
    "        if year == None:\n",
    "            year = int(input(\"Enter year : \"))\n",
    "        if n == None:\n",
    "            n = int(input(\"\\nHow many companies would you like to search? : \"))\n",
    "            comp_subset = comp_list[:n]\n",
    "    elif c == 2:\n",
    "        comp_subset = get_redownload_list(year)\n",
    "    else:\n",
    "        return None\n",
    "    \n",
    "    print(f\"\\nInitiating search of Annual reports for the {year}......\\n\")\n",
    "    time.sleep(2)\n",
    "    dic = {}\n",
    "    for x in comp_subset:\n",
    "        comp = x.strip()\n",
    "        #if the pdf of a year exist\n",
    "        if os.path.exists(f\"pdf/{year}\") == False:\n",
    "            os.mkdir(f\"pdf/{year}\")\n",
    "        if c == 1:\n",
    "            if os.path.exists(f\"pdf/{year}/{comp}\"):\n",
    "                if os.listdir(f\"pdf/{year}/{comp}\") != []:\n",
    "                    print(f\"{comp} already downloaded! Skipping search!\")\n",
    "                    continue\n",
    "        \n",
    "#       query = f\"{comp} annual report site:\\\"https://www.bseindia.com\\\" filetype:pdf intext:\\\"{year} {year+1}\\\" \" \n",
    "#         query = f\"{comp} bse annual report {year}-{year+1} filetype:pdf intext:\\\"{comp}\\\" \"\n",
    "        query = f\"{comp} bse annual report {year} filetype:pdf intext:\\\"{comp}\\\" \"\n",
    "\n",
    "#             query2 = f\"{comp} annual report 2019-20 intext:\\\"Do you have a policy\\\" filetype:pdf\"\n",
    "        print(f\"\\nLinks for {comp} --------------------------------------------\\n\")\n",
    "        links = []\n",
    "        link = \"\"\n",
    "        title = \"\"\n",
    "        desc = \"\"\n",
    "        result = google_results(query,1)\n",
    "        for r in result:\n",
    "            title = r[\"title\"]\n",
    "            desc = r[\"desc\"]\n",
    "            link = r[\"link\"]\n",
    "            print(f\"\\nTitle : {color.BOLD}{title}{color.END}\")\n",
    "            print(f\"Description : {desc}\")\n",
    "            print(f\"link :{link}\")\n",
    "#             if f\"{year-1}\" in desc or f\"{year-1}\" in title:\n",
    "#                 print(\"SKIPPING.......\")\n",
    "#                 continue\n",
    "            links.append(link)\n",
    "#             break\n",
    "        dic[x] = links\n",
    "    return dic"
   ]
  },
  {
   "cell_type": "markdown",
   "metadata": {},
   "source": [
    "## Downloading PDF from the list of links"
   ]
  },
  {
   "cell_type": "code",
   "execution_count": 13,
   "metadata": {},
   "outputs": [],
   "source": [
    "def get_filesize(download_path):\n",
    "    file_size = os.path.getsize(f\"{download_path}\")\n",
    "    return file_size"
   ]
  },
  {
   "cell_type": "code",
   "execution_count": 14,
   "metadata": {},
   "outputs": [],
   "source": [
    "def validate_links(file_name):\n",
    "    pass"
   ]
  },
  {
   "cell_type": "code",
   "execution_count": 15,
   "metadata": {},
   "outputs": [],
   "source": [
    "def get_filename(y):\n",
    "    #check for pdf extension in link if not then add\n",
    "    if re.findall(\"pdf\", y) == []:\n",
    "        file_name = os.path.split(y)[1] + \".pdf\"\n",
    "    else:\n",
    "        file_name = os.path.split(y)[1]\n",
    "    ##check for pdf in filename\n",
    "    if re.findall(\"pdf\",file_name) == []:\n",
    "        y = y.replace(file_name,\"\")\n",
    "        file_name = os.path.split(y[:-1])[1]\n",
    "    \n",
    "    i = file_name.find(\"pdf\")\n",
    "    if i > 0:\n",
    "        file_name =  file_name[:i+3]\n",
    "        \n",
    "    ##check for special characters\n",
    "    pattern= \"'[@!#$^&*%<>?/\\\\|}{~:]'\\\"=\"\n",
    "    \n",
    "    for x in pattern:\n",
    "        n = file_name.replace(x,\"\")\n",
    "        file_name = n\n",
    "    return n"
   ]
  },
  {
   "cell_type": "code",
   "execution_count": 16,
   "metadata": {},
   "outputs": [],
   "source": [
    "##download directly\n",
    "def download_pdf_direct(link,file_name,year,company_name):\n",
    "    path = f\"pdf/{year}/{company_name}/{file_name}\"\n",
    "    ua = UserAgent()\n",
    "    try:\n",
    "        response = requests.get(link, {\"User-Agent\": ua.random}, timeout = 180)\n",
    "        save_file(response,file_name,path)\n",
    "        return True\n",
    "    except:\n",
    "        return False"
   ]
  },
  {
   "cell_type": "code",
   "execution_count": 17,
   "metadata": {},
   "outputs": [],
   "source": [
    "def save_file(response,filename,download_path):\n",
    "#     download_path = \"temp/test_file2.pdf\"\n",
    "    with open(f\"{download_path}\", 'wb') as pdf:\n",
    "        pdf.write(response.content)\n",
    "    file_size = os.path.getsize(f\"{download_path}\")\n",
    "    size = round(file_size/(1024),3)\n",
    "    print(f\"\\tdownloaded filesize : {size}KB\")"
   ]
  },
  {
   "cell_type": "markdown",
   "metadata": {},
   "source": [
    "## SELENIUM"
   ]
  },
  {
   "cell_type": "code",
   "execution_count": 18,
   "metadata": {},
   "outputs": [],
   "source": [
    "def download_wait(path_to_downloads):\n",
    "    seconds = 0\n",
    "    dl_wait = True\n",
    "    while dl_wait:\n",
    "        time.sleep(1)\n",
    "        for fname in os.listdir(path_to_downloads):\n",
    "            if fname.endswith('.crdownload'):\n",
    "                dl_wait = True\n",
    "            else:\n",
    "                dl_wait = False\n",
    "                "
   ]
  },
  {
   "cell_type": "code",
   "execution_count": 19,
   "metadata": {},
   "outputs": [],
   "source": [
    "def download_pdf_selenium(year,company_name):\n",
    "    PATH = \"Driver/Win 7/chromedriver.exe\"\n",
    "#     d_path = f\"C:\\\\Users\\\\Rahul\\\\Desktop\\\\ESG\\\\pdf grabber\\\\pdf\\\\{year}\\\\{company_name}\"\n",
    "    d_path = f\"D:\\\\Python_projects\\\\ESG\\\\pdf grabber\\\\pdf\\\\{year}\\\\{company_name}\"\n",
    "#     d_path =  r\"C:\\Users\\Rahul\\Desktop\\ESG\\pdf grabber\\pdf\"\n",
    "    print(company_name)\n",
    "    query = f\"{company_name} bse annual report {year} filetype:pdf intext:\\\"{company_name}\\\" \"\n",
    "    options = webdriver.ChromeOptions()\n",
    "\n",
    "    options.add_experimental_option('prefs', {\n",
    "    \"download.default_directory\": d_path ,\n",
    "    \"download.prompt_for_download\": False, #To auto download the file\n",
    "    \"download.directory_upgrade\": True,\n",
    "    \"plugins.always_open_pdf_externally\": True #It will not show PDF directly in chrome\n",
    "    })\n",
    "    \n",
    "    \n",
    "    driver = webdriver.Chrome(options=options,executable_path = PATH)\n",
    "        \n",
    "    \n",
    "    driver.get(\"https://www.google.com\")\n",
    "    driver.find_element_by_name(\"q\").send_keys(query,Keys.ENTER)\n",
    "    first_link = driver.find_element_by_xpath(\"//h3[@class = 'LC20lb DKV0Md']\")\n",
    "    first_link.click()\n",
    "    time.sleep(6)\n",
    "    \n",
    "    #wait untill the download is complete then close the browser\n",
    "    print(f\"\\t{company_name} download started\")\n",
    "    download_wait(d_path)\n",
    "    driver.quit()\n",
    "    \n"
   ]
  },
  {
   "cell_type": "code",
   "execution_count": 20,
   "metadata": {},
   "outputs": [],
   "source": [
    "##download at each folder\n",
    "def download_all_pdf(dic,year = None):\n",
    "    if year == None:\n",
    "        year = int(input(\"Enter year : \"))\n",
    "    error_files = []\n",
    "    stuck_files = []\n",
    "    for x in dic:\n",
    "        company_name = x.strip()\n",
    "        link_of_pdfs = dic[x]\n",
    "        path = \"pdf\"\n",
    "        download_path = f\"{path}/{year}/{company_name}\"\n",
    "        #go to pdf and create folder\n",
    "        if os.path.exists(f\"{path}/{year}\") == False:\n",
    "            os.mkdir(f\"{path}/{year}\")\n",
    "        if os.path.exists(download_path) == False:\n",
    "            os.mkdir(download_path)\n",
    "        f_size = get_filesize(f\"{download_path}\")\n",
    "        if os.listdir(download_path) == [] or f_size < 10000:\n",
    "            print(f\"\\nDownloading report for {company_name}\")\n",
    "            check = \"\"\n",
    "            for y in link_of_pdfs:\n",
    "                #gets the pdf name from the link\n",
    "                file_name = get_filename(y)\n",
    "                try:\n",
    "#                     print(f\"{y}\\n{file_name}\\n{company_name}\")\n",
    "                    check = download_pdf_direct(y,file_name,year,company_name)\n",
    "                    \n",
    "                except:\n",
    "                    print(f\"!!!!!------------Some error occured while downloading {file_name}, skipping to next link.\")\n",
    "                    error_files.append(company_name)\n",
    "            if check:\n",
    "                print(f\"\\t{company_name} report downloaded\")\n",
    "            else:\n",
    "                print(\"!!!!------File is taking too long to download, trying different method\")\n",
    "                ##reload using selenium\n",
    "                download_pdf_selenium(year,company_name)\n",
    "                print(\"Download successful using selenium\")\n",
    "#                 stuck_files.append(company_name)\n",
    "    \n",
    "    print(\"----------------------------------------------------------------------------------\")\n",
    "    print(\"All download complete!\")\n",
    "    \n",
    "    \n",
    "    if error_files != []:\n",
    "        print(\"List of company not downloaded\")\n",
    "        with open(f\"pdf/logs/failed_files_{year}.txt\",\"w\") as f:\n",
    "            for x in error_files:\n",
    "                print(f\"\\t{x}\")\n",
    "                f.write(f\"{x}\\n\")\n",
    "                \n",
    "    if stuck_files!= []:\n",
    "        print(\"List of company skipped as it took too long to download \")\n",
    "        with open(f\"pdf/logs/stuck_files_{year}.txt\",\"w\") as f:\n",
    "            for x in stuck_files:\n",
    "                print(f\"\\t{x}\")\n",
    "                f.write(f\"{x}\\n\")"
   ]
  },
  {
   "cell_type": "markdown",
   "metadata": {},
   "source": [
    "## Validate downloaded files"
   ]
  },
  {
   "cell_type": "markdown",
   "metadata": {},
   "source": [
    "## Check files"
   ]
  },
  {
   "cell_type": "code",
   "execution_count": 54,
   "metadata": {
    "tags": []
   },
   "outputs": [],
   "source": [
    "def check_files(year):\n",
    "    f = open(f\"pdf/logs/broken_files_{year}.txt\",\"w\")\n",
    "    f2 = open(f\"pdf/logs/success_files_{year}.txt\",\"w\")\n",
    "    c = 0\n",
    "    for i in os.listdir(f\"pdf/{year}/\"):\n",
    "        path = f\"pdf/{year}/{i}/\"\n",
    "\n",
    "        file = os.listdir(path)\n",
    "        if file == []:\n",
    "            continue\n",
    "        file_path = path+file[0]\n",
    "        file_size = os.path.getsize(file_path)\n",
    "#         print(f\"{i} File Size is :{file_size} bytes\")\n",
    "        #add to broken download list\n",
    "        if file_size < 90000:\n",
    "            f.write(f\"{i}\\n\")\n",
    "            print(f\"{i} file size is too small {file_size} bytes\\n\")\n",
    "            c =c + 1\n",
    "        #add to success download list\n",
    "        else:\n",
    "            f2.write(f\"{i}\\n\")\n",
    "    f.close()\n",
    "    f2.close()\n",
    "    \n",
    "    if c == 0:\n",
    "        return False\n",
    "    else:\n",
    "        print(f\"{c} broken files found\\n\")\n",
    "        return True"
   ]
  },
  {
   "cell_type": "markdown",
   "metadata": {},
   "source": [
    "## Get redownload list"
   ]
  },
  {
   "cell_type": "code",
   "execution_count": 22,
   "metadata": {
    "tags": []
   },
   "outputs": [],
   "source": [
    "def get_redownload_list(year):\n",
    "    path = f\"pdf/logs/broken_files_{year}.txt\"\n",
    "    with open(path, \"r\") as f:\n",
    "        r_list = f.readlines()\n",
    "    return r_list"
   ]
  },
  {
   "cell_type": "markdown",
   "metadata": {},
   "source": [
    "## get summary of download"
   ]
  },
  {
   "cell_type": "code",
   "execution_count": 23,
   "metadata": {},
   "outputs": [],
   "source": [
    "def get_count(filepath):\n",
    "    c = 0\n",
    "    with open(filepath, \"r\") as file:\n",
    "        Content = file.read()\n",
    "        CoList = Content.split(\"\\n\")\n",
    "\n",
    "        for i in CoList:\n",
    "            if i:\n",
    "                c += 1\n",
    "\n",
    "    return c"
   ]
  },
  {
   "cell_type": "code",
   "execution_count": 165,
   "metadata": {},
   "outputs": [],
   "source": [
    "def describe(year):\n",
    "    succ_path = f\"pdf/logs/success_files_{year}.txt\"\n",
    "    broken_path = f\"pdf/logs/broken_files_{year}.txt\"\n",
    "    failed_path = f\"pdf/logs/failed_files_{year}.txt\"\n",
    "    stuck_path = f\"pdf/logs/stuck_files_{year}.txt\"\n",
    "    \n",
    "    sum_success = 0\n",
    "    sum_stuck = 0\n",
    "    sum_broken = 0\n",
    "    sum_fail = 0\n",
    "    \n",
    "    if os.path.exists(succ_path):\n",
    "        sum_success = get_count(succ_path)\n",
    "    if os.path.exists(failed_path):\n",
    "        sum_fail = get_count(failed_path)\n",
    "    if os.path.exists(broken_path):\n",
    "        sum_broken = get_count(broken_path)\n",
    "    if os.path.exists(stuck_path):\n",
    "        sum_stuck = get_count(stuck_path)\n",
    "    \n",
    "    sum_missing = 0\n",
    "    for d in os.listdir(\"pdf/2017/\"):\n",
    "        if os.listdir(f\"pdf/2017/{d}\") == []:\n",
    "            sum_missing= + 1\n",
    "    \n",
    "    total = sum_broken + sum_fail + sum_stuck + sum_success + sum_missing\n",
    "    print(f\"\"\"\n",
    "    Downlaod summary {year}:\n",
    "    1. Success : {sum_success} ({round(sum_success/total*100,2)}%)\n",
    "    2. Stuck : {sum_stuck} ({round(sum_stuck/total*100,2)}%)\n",
    "    3. Broken : {sum_broken} ({round(sum_broken/total*100,2)}%)\n",
    "    4. Failed : {sum_fail} ({round(sum_fail/total*100,2)}%)\n",
    "    5. Missing : {sum_missing} ({round(sum_missing/total*100,2)}%)\n",
    "    Total : {total}\n",
    "    \"\"\")\n",
    "    "
   ]
  },
  {
   "cell_type": "code",
   "execution_count": 110,
   "metadata": {
    "tags": []
   },
   "outputs": [],
   "source": [
    "def describe_all():\n",
    "    year = [2017,2018,2019]\n",
    "    sum_success = []\n",
    "    sum_stuck = []\n",
    "    sum_broken = []\n",
    "    sum_fail = []\n",
    "    \n",
    "    for i in year:\n",
    "        succ_path = f\"pdf/logs/success_files_{i}.txt\"\n",
    "        broken_path = f\"pdf/logs/broken_files_{i}.txt\"\n",
    "        failed_path = f\"pdf/logs/failed_files_{i}.txt\"\n",
    "        stuck_path = f\"pdf/logs/stuck_files_{i}.txt\"\n",
    "\n",
    "        if os.path.exists(succ_path):\n",
    "            sum_success.append(get_count(succ_path)) \n",
    "        else:\n",
    "            sum_success.append(0) \n",
    "            \n",
    "        if os.path.exists(failed_path):\n",
    "            sum_fail.append(get_count(failed_path))\n",
    "        else:\n",
    "            sum_fail.append(0) \n",
    "        if os.path.exists(broken_path):\n",
    "            sum_broken.append(get_count(broken_path)) \n",
    "        else:\n",
    "            sum_broken.append(0) \n",
    "        if os.path.exists(stuck_path):\n",
    "            sum_stuck.append(get_count(stuck_path)) \n",
    "        else:\n",
    "            sum_stuck.append(0) \n",
    "            \n",
    "    d = {'Year':year,\n",
    "         'Success' : sum_success,\n",
    "         'Failed' : sum_fail,\n",
    "         'Stuck' : sum_stuck,\n",
    "        'Broken' : sum_broken\n",
    "        }\n",
    "\n",
    "    df = pd.DataFrame(d)\n",
    "    plt.subplot(2,2,1)\n",
    "    sns.barplot(data=df,x= 'Year', y = 'Success');\n",
    "    plt.subplot(2,2,2)\n",
    "    sns.barplot(data=df,x= 'Year', y = 'Failed');\n",
    "    plt.subplot(2,2,3)\n",
    "    sns.barplot(data=df,x= 'Year', y = 'Broken');\n",
    "    plt.subplot(2,2,4)\n",
    "    sns.barplot(data=df,x= 'Year', y = 'Stuck');\n",
    "    plt.show()\n",
    "    print(\"\\n\\n---------------------Stacked plot---------------------\\n\\n\")\n",
    "    print(df)\n",
    "    x = df[\"Year\"]\n",
    "    plt.bar(x,df[\"Success\"],0.5,label=\"Success\")\n",
    "    plt.bar(x,df[\"Broken\"],0.5,bottom = df[\"Success\"],label=\"Broken\")\n",
    "    plt.bar(x,df[\"Stuck\"],0.5,bottom = df[\"Broken\"],label=\"Stuck\")\n",
    "    plt.bar(x,df[\"Failed\"],0.5,bottom = df[\"Stuck\"],label=\"Failed\")\n",
    "    plt.xticks(df[\"Year\"])\n",
    "    plt.xlabel(\"Year\")\n",
    "    plt.ylabel(\"Download Summary\")\n",
    "    plt.legend()\n",
    "    plt.show()"
   ]
  },
  {
   "cell_type": "markdown",
   "metadata": {},
   "source": [
    "## Redownload stuck files()"
   ]
  },
  {
   "cell_type": "code",
   "execution_count": 26,
   "metadata": {},
   "outputs": [],
   "source": [
    "def get_stuck_list(year):\n",
    "    stuck_path = f\"pdf/logs/stuck_files_{year}.txt\"\n",
    "    l = []\n",
    "    if os.path.exists(stuck_path):\n",
    "        with open(stuck_path, \"r\") as f:\n",
    "            l = f.readlines()\n",
    "            \n",
    "    return l\n",
    "    "
   ]
  },
  {
   "cell_type": "code",
   "execution_count": 27,
   "metadata": {},
   "outputs": [],
   "source": [
    "def redownload_stuck(year):\n",
    "    l = get_stuck_list(year)\n",
    "    for comp_name in l:\n",
    "        comp_name = comp_name.replace(\"\\n\",\"\")\n",
    "        if os.listdir(f\"pdf/{year}/{comp_name}/\") == []:\n",
    "            download_pdf_selenium(year,comp_name)\n",
    "            print(f\"{comp_name} download complete\")\n",
    "        else:\n",
    "            print(f\"{comp_name} already downloaded!!\")\n",
    "\n",
    "#         time.sleep(300)\n",
    "        ## close the browser after the download is complete\n",
    "        "
   ]
  },
  {
   "cell_type": "markdown",
   "metadata": {},
   "source": [
    "## delete broken files and redownload"
   ]
  },
  {
   "cell_type": "code",
   "execution_count": 28,
   "metadata": {},
   "outputs": [],
   "source": [
    "def get_broken_list(year):\n",
    "    stuck_path = f\"pdf/logs/broken_files_{year}.txt\"\n",
    "    l = []\n",
    "    if os.path.exists(stuck_path):\n",
    "        with open(stuck_path, \"r\") as f:\n",
    "            l = f.readlines()\n",
    "            \n",
    "    return l"
   ]
  },
  {
   "cell_type": "code",
   "execution_count": 162,
   "metadata": {},
   "outputs": [],
   "source": [
    "def redownload_broken(year):\n",
    "    l = get_broken_list(year)\n",
    "    for comp_name in l:\n",
    "        comp_name = comp_name.replace(\"\\n\",\"\")\n",
    "        ##delete all the file inside the folder\n",
    "        dir_path = f\"pdf/{year}/{comp_name}/\"\n",
    "        for i in os.listdir(dir_path):\n",
    "            try:\n",
    "                os.remove(os.path.join(dir_path, i))\n",
    "            except Exception as e:\n",
    "                beep(1000,1000)\n",
    "                print(f\"Unwated folder found, tring to remove folder\")\n",
    "                print(f\"\\t{e}\")\n",
    "                try:\n",
    "                    shutil.rmtree(os.path.join(dir_path, i))\n",
    "                    print(\"Succesfully removed\")\n",
    "                except Exception as e:\n",
    "                    print(f\"\\t{e}\")\n",
    "                    \n",
    "        #then checks if folder is empty then downlaod    \n",
    "        if os.listdir(dir_path) == []:\n",
    "            download_pdf_selenium(year,comp_name)\n",
    "            beep(528,600)\n",
    "            print(f\"\\t{comp_name} download complete\")\n"
   ]
  },
  {
   "cell_type": "code",
   "execution_count": 30,
   "metadata": {},
   "outputs": [],
   "source": [
    "# redownload_stuck(2018)"
   ]
  },
  {
   "cell_type": "markdown",
   "metadata": {},
   "source": [
    "## Beep sound"
   ]
  },
  {
   "cell_type": "code",
   "execution_count": 149,
   "metadata": {},
   "outputs": [],
   "source": [
    "def beep(f=2000,d=3000):\n",
    "    pass\n",
    "#     winsound.Beep(f,d)"
   ]
  },
  {
   "cell_type": "markdown",
   "metadata": {},
   "source": [
    "## Start search and download"
   ]
  },
  {
   "cell_type": "code",
   "execution_count": 157,
   "metadata": {},
   "outputs": [],
   "source": [
    "def start_it():\n",
    "    y = int(input(\"Enter year :\"))\n",
    "#     year = y\n",
    "    choice = \"\"\n",
    "    if os.path.exists(f\"pdf/{y}\"):\n",
    "        print(\"\\nChecking previous downloads for broken files......\\n\")\n",
    "        time.sleep(2)\n",
    "        if check_files(y):\n",
    "            choice = input(\"Do you want to re-download these files? y or n :\")\n",
    "        else:\n",
    "            print(\"No broken files found\")\n",
    "    if choice == \"y\":\n",
    "        redownload_broken(y)\n",
    "    else:\n",
    "        comp_dict = search_and_get_pdf(None,y,1)\n",
    "        download_all_pdf(comp_dict,y)\n",
    "\n",
    "    print(\"\\nReckecking for broken downloads.....\\n\")\n",
    "    time.sleep(2)\n",
    "    check_files(y)\n",
    "    print(color.GREEN + \"Everyting is completed successfully!\" + color.END)\n",
    "    beep()\n",
    "    describe(y)"
   ]
  },
  {
   "cell_type": "code",
   "execution_count": 175,
   "metadata": {
    "tags": []
   },
   "outputs": [
    {
     "name": "stdin",
     "output_type": "stream",
     "text": [
      "Enter year : 2019\n"
     ]
    },
    {
     "name": "stdout",
     "output_type": "stream",
     "text": [
      "\n",
      "Checking previous downloads for broken files......\n",
      "\n",
      "ACC file size is too small 345 bytes\n",
      "\n",
      "Aditya Birla Capital file size is too small 345 bytes\n",
      "\n",
      "Ambuja Cements file size is too small 345 bytes\n",
      "\n",
      "Apollo Tyres file size is too small 345 bytes\n",
      "\n",
      "Ashok Leyland file size is too small 345 bytes\n",
      "\n",
      "Asian Paints file size is too small 731 bytes\n",
      "\n",
      "Aurobindo Pharma file size is too small 345 bytes\n",
      "\n",
      "Avenue Supermarts file size is too small 345 bytes\n",
      "\n",
      "Bank of India file size is too small 345 bytes\n",
      "\n",
      "Bharat Heavy Electricals file size is too small 345 bytes\n",
      "\n",
      "Bharti Airtel file size is too small 345 bytes\n",
      "\n",
      "Cadila Healthcare file size is too small 3817 bytes\n",
      "\n",
      "Canara Bank file size is too small 345 bytes\n",
      "\n",
      "Citibank file size is too small 345 bytes\n",
      "\n",
      "EID Parry (India) file size is too small 345 bytes\n",
      "\n",
      "General Insurance Corporation of India file size is too small 345 bytes\n",
      "\n",
      "HDFC file size is too small 345 bytes\n",
      "\n",
      "HDFC Bank file size is too small 345 bytes\n",
      "\n",
      "Hero MotoCorp file size is too small 42054 bytes\n",
      "\n",
      "Hindustan Aeronautics file size is too small 345 bytes\n",
      "\n",
      "Hindustan Unilever file size is too small 345 bytes\n",
      "\n",
      "IDFC First Bank file size is too small 6751 bytes\n",
      "\n",
      "IFFCO file size is too small 55635 bytes\n",
      "\n",
      "Indian Bank file size is too small 345 bytes\n",
      "\n",
      "Indian Overseas Bank file size is too small 345 bytes\n",
      "\n",
      "IndusInd Bank file size is too small 345 bytes\n",
      "\n",
      "Infosys file size is too small 345 bytes\n",
      "\n",
      "InterGlobe Aviation file size is too small 345 bytes\n",
      "\n",
      "Jindal Steel & Power file size is too small 345 bytes\n",
      "\n",
      "Larsen & Toubro file size is too small 0 bytes\n",
      "\n",
      "LIC Housing Finance file size is too small 345 bytes\n",
      "\n",
      "Lupin file size is too small 179 bytes\n",
      "\n",
      "Mahindra & Mahindra file size is too small 345 bytes\n",
      "\n",
      "Maruti Suzuki India file size is too small 345 bytes\n",
      "\n",
      "Max Financial Services file size is too small 345 bytes\n",
      "\n",
      "MRF file size is too small 345 bytes\n",
      "\n",
      "NABARD file size is too small 345 bytes\n",
      "\n",
      "NTPC file size is too small 345 bytes\n",
      "\n",
      "Oil & Natural Gas Corporation file size is too small 43 bytes\n",
      "\n",
      "Oil India file size is too small 345 bytes\n",
      "\n",
      "Piramal Enterprises file size is too small 345 bytes\n",
      "\n",
      "Power Finance Corporation file size is too small 1245 bytes\n",
      "\n",
      "Power Grid Corporation of India file size is too small 345 bytes\n",
      "\n",
      "PTC India file size is too small 345 bytes\n",
      "\n",
      "Rail Vikas Nigam file size is too small 345 bytes\n",
      "\n",
      "Rajesh Exports file size is too small 345 bytes\n",
      "\n",
      "Shriram Transport Finance Company file size is too small 345 bytes\n",
      "\n",
      "State Bank of India file size is too small 345 bytes\n",
      "\n",
      "Tata Steel file size is too small 345 bytes\n",
      "\n",
      "Tech Mahindra file size is too small 345 bytes\n",
      "\n",
      "Toyota Kirloskar Motor file size is too small 345 bytes\n",
      "\n",
      "TVS Motor Company file size is too small 3830 bytes\n",
      "\n",
      "UCO Bank file size is too small 345 bytes\n",
      "\n",
      "Vedanta file size is too small 345 bytes\n",
      "\n",
      "Vodafone Idea file size is too small 345 bytes\n",
      "\n",
      "Wipro file size is too small 345 bytes\n",
      "\n",
      "Yes Bank file size is too small 345 bytes\n",
      "\n",
      "57 broken files found\n",
      "\n"
     ]
    },
    {
     "name": "stdin",
     "output_type": "stream",
     "text": [
      "Do you want to re-download these files? y or n : n\n",
      "\n",
      "How many companies would you like to search? :  30\n"
     ]
    },
    {
     "name": "stdout",
     "output_type": "stream",
     "text": [
      "\n",
      "Initiating search of Annual reports for the 2019......\n",
      "\n",
      "Reliance Industries already downloaded! Skipping search!\n",
      "Indian Oil Corporation already downloaded! Skipping search!\n",
      "Oil & Natural Gas Corporation already downloaded! Skipping search!\n",
      "State Bank of India already downloaded! Skipping search!\n",
      "Bharat Petroleum Corporation already downloaded! Skipping search!\n",
      "Tata Motors already downloaded! Skipping search!\n",
      "Rajesh Exports already downloaded! Skipping search!\n",
      "Tata Consultancy Services already downloaded! Skipping search!\n",
      "ICICI Bank already downloaded! Skipping search!\n",
      "Larsen & Toubro already downloaded! Skipping search!\n",
      "HDFC Bank already downloaded! Skipping search!\n",
      "Tata Steel already downloaded! Skipping search!\n",
      "Hindalco Industries already downloaded! Skipping search!\n",
      "NTPC already downloaded! Skipping search!\n",
      "HDFC already downloaded! Skipping search!\n",
      "Coal India already downloaded! Skipping search!\n",
      "Mahindra & Mahindra already downloaded! Skipping search!\n",
      "Infosys already downloaded! Skipping search!\n",
      "Bank of Baroda already downloaded! Skipping search!\n",
      "Bharti Airtel already downloaded! Skipping search!\n",
      "Nayara Energy already downloaded! Skipping search!\n",
      "Vedanta already downloaded! Skipping search!\n",
      "Axis Bank already downloaded! Skipping search!\n",
      "Grasim Industries already downloaded! Skipping search!\n",
      "Maruti Suzuki India already downloaded! Skipping search!\n",
      "GAIL (India) already downloaded! Skipping search!\n",
      "JSW Steel already downloaded! Skipping search!\n",
      "HCL Technologies already downloaded! Skipping search!\n",
      "Steel Authority of India already downloaded! Skipping search!\n",
      "Punjab National Bank already downloaded! Skipping search!\n",
      "----------------------------------------------------------------------------------\n",
      "All download complete!\n",
      "\n",
      "Reckecking for broken downloads.....\n",
      "\n",
      "ACC file size is too small 345 bytes\n",
      "\n",
      "Aditya Birla Capital file size is too small 345 bytes\n",
      "\n",
      "Ambuja Cements file size is too small 345 bytes\n",
      "\n",
      "Apollo Tyres file size is too small 345 bytes\n",
      "\n",
      "Ashok Leyland file size is too small 345 bytes\n",
      "\n",
      "Asian Paints file size is too small 731 bytes\n",
      "\n",
      "Aurobindo Pharma file size is too small 345 bytes\n",
      "\n",
      "Avenue Supermarts file size is too small 345 bytes\n",
      "\n",
      "Bank of India file size is too small 345 bytes\n",
      "\n",
      "Bharat Heavy Electricals file size is too small 345 bytes\n",
      "\n",
      "Bharti Airtel file size is too small 345 bytes\n",
      "\n",
      "Cadila Healthcare file size is too small 3817 bytes\n",
      "\n",
      "Canara Bank file size is too small 345 bytes\n",
      "\n",
      "Citibank file size is too small 345 bytes\n",
      "\n",
      "EID Parry (India) file size is too small 345 bytes\n",
      "\n",
      "General Insurance Corporation of India file size is too small 345 bytes\n",
      "\n",
      "HDFC file size is too small 345 bytes\n",
      "\n",
      "HDFC Bank file size is too small 345 bytes\n",
      "\n",
      "Hero MotoCorp file size is too small 42054 bytes\n",
      "\n",
      "Hindustan Aeronautics file size is too small 345 bytes\n",
      "\n",
      "Hindustan Unilever file size is too small 345 bytes\n",
      "\n",
      "IDFC First Bank file size is too small 6751 bytes\n",
      "\n",
      "IFFCO file size is too small 55635 bytes\n",
      "\n",
      "Indian Bank file size is too small 345 bytes\n",
      "\n",
      "Indian Overseas Bank file size is too small 345 bytes\n",
      "\n",
      "IndusInd Bank file size is too small 345 bytes\n",
      "\n",
      "Infosys file size is too small 345 bytes\n",
      "\n",
      "InterGlobe Aviation file size is too small 345 bytes\n",
      "\n",
      "Jindal Steel & Power file size is too small 345 bytes\n",
      "\n",
      "Larsen & Toubro file size is too small 0 bytes\n",
      "\n",
      "LIC Housing Finance file size is too small 345 bytes\n",
      "\n",
      "Lupin file size is too small 179 bytes\n",
      "\n",
      "Mahindra & Mahindra file size is too small 345 bytes\n",
      "\n",
      "Maruti Suzuki India file size is too small 345 bytes\n",
      "\n",
      "Max Financial Services file size is too small 345 bytes\n",
      "\n",
      "MRF file size is too small 345 bytes\n",
      "\n",
      "NABARD file size is too small 345 bytes\n",
      "\n",
      "NTPC file size is too small 345 bytes\n",
      "\n",
      "Oil & Natural Gas Corporation file size is too small 43 bytes\n",
      "\n",
      "Oil India file size is too small 345 bytes\n",
      "\n",
      "Piramal Enterprises file size is too small 345 bytes\n",
      "\n",
      "Power Finance Corporation file size is too small 1245 bytes\n",
      "\n",
      "Power Grid Corporation of India file size is too small 345 bytes\n",
      "\n",
      "PTC India file size is too small 345 bytes\n",
      "\n",
      "Rail Vikas Nigam file size is too small 345 bytes\n",
      "\n",
      "Rajesh Exports file size is too small 345 bytes\n",
      "\n",
      "Shriram Transport Finance Company file size is too small 345 bytes\n",
      "\n",
      "State Bank of India file size is too small 345 bytes\n",
      "\n",
      "Tata Steel file size is too small 345 bytes\n",
      "\n",
      "Tech Mahindra file size is too small 345 bytes\n",
      "\n",
      "Toyota Kirloskar Motor file size is too small 345 bytes\n",
      "\n",
      "TVS Motor Company file size is too small 3830 bytes\n",
      "\n",
      "UCO Bank file size is too small 345 bytes\n",
      "\n",
      "Vedanta file size is too small 345 bytes\n",
      "\n",
      "Vodafone Idea file size is too small 345 bytes\n",
      "\n",
      "Wipro file size is too small 345 bytes\n",
      "\n",
      "Yes Bank file size is too small 345 bytes\n",
      "\n",
      "57 broken files found\n",
      "\n",
      "\u001b[92mEveryting is completed successfully!\u001b[0m\n",
      "\n",
      "    Downlaod summary 2019:\n",
      "    1. Success : 43 (42.16%)\n",
      "    2. Stuck : 1 (0.98%)\n",
      "    3. Broken : 57 (55.88%)\n",
      "    4. Failed : 0 (0.0%)\n",
      "    5. Missing : 1 (0.98%)\n",
      "    Total : 102\n",
      "    \n"
     ]
    }
   ],
   "source": [
    "start_it()"
   ]
  },
  {
   "cell_type": "code",
   "execution_count": 176,
   "metadata": {},
   "outputs": [
    {
     "data": {
      "image/png": "[encoded data removed]",
      "text/plain": [
       "<Figure size 720x576 with 4 Axes>"
      ]
     },
     "metadata": {},
     "output_type": "display_data"
    },
    {
     "name": "stdout",
     "output_type": "stream",
     "text": [
      "\n",
      "\n",
      "---------------------Stacked plot---------------------\n",
      "\n",
      "\n",
      "   Year  Success  Failed  Stuck  Broken\n",
      "0  2017       97       0      0       2\n",
      "1  2018       99       0      0       0\n",
      "2  2019       43       0      0      57\n"
     ]
    },
    {
     "data": {
      "image/png": "[encoded data removed]",
      "text/plain": [
       "<Figure size 720x576 with 1 Axes>"
      ]
     },
     "metadata": {},
     "output_type": "display_data"
    }
   ],
   "source": [
    "describe_all()"
   ]
  }
 ],
 "metadata": {
  "kernelspec": {
   "display_name": "Python 3",
   "language": "python",
   "name": "python3"
  },
  "language_info": {
   "codemirror_mode": {
    "name": "ipython",
    "version": 3
   },
   "file_extension": ".py",
   "mimetype": "text/x-python",
   "name": "python",
   "nbconvert_exporter": "python",
   "pygments_lexer": "ipython3",
   "version": "3.8.5"
  }
 },
 "nbformat": 4,
 "nbformat_minor": 4
}
